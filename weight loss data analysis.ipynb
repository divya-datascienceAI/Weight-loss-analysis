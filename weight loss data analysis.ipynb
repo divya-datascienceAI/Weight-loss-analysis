{
 "cells": [
  {
   "cell_type": "code",
   "execution_count": 8,
   "id": "a56d5a54",
   "metadata": {},
   "outputs": [
    {
     "name": "stdout",
     "output_type": "stream",
     "text": [
      "   SL.NO  Days  Weight\n",
      "0      1     0  184.35\n",
      "1      2     4  182.51\n",
      "2      3     7  180.45\n",
      "3      4     7  179.91\n",
      "4      5    11  177.91\n",
      "    SL.NO  Days  Weight\n",
      "47     48   225   116.0\n",
      "48     49   233   115.5\n",
      "49     50   238   112.6\n",
      "50     51   241   114.0\n",
      "51     52   246   112.6\n"
     ]
    }
   ],
   "source": [
    "#TO SHOW THE DATA SETS FOR WEIGHT LOSS\n",
    "import numpy as np\n",
    "import pandas as pd\n",
    "import os\n",
    "path='D:/Data sets/wtloss.csv'\n",
    "df=pd.read_csv(path,na_values='NA',usecols=[0,1,2])\n",
    "print(df.head())\n",
    "print(df.tail())\n"
   ]
  },
  {
   "cell_type": "code",
   "execution_count": 10,
   "id": "4dbe06ab",
   "metadata": {},
   "outputs": [
    {
     "name": "stdout",
     "output_type": "stream",
     "text": [
      "toal days taken to weight loss: Days    246\n",
      "dtype: int64\n",
      "toal month taken to weight loss: Days    8.2\n",
      "dtype: float64\n"
     ]
    }
   ],
   "source": [
    "#TO CALCULATE TOTAL NUMBER OF DAYS TAKEN TO WEIGHT LOSS\n",
    "df=pd.read_csv(path,na_values='NA',usecols=[1])\n",
    "total_days=np.max(df)\n",
    "print('toal days taken to weight loss:',total_days)\n",
    "month=total_days/30\n",
    "print('toal month taken to weight loss:',month)\n"
   ]
  },
  {
   "cell_type": "code",
   "execution_count": 11,
   "id": "e3b9b109",
   "metadata": {},
   "outputs": [
    {
     "name": "stdout",
     "output_type": "stream",
     "text": [
      "avg_weight: Weight    142.248077\n",
      "dtype: float64\n",
      "recent weight: Weight    112.6\n",
      "dtype: float64\n",
      "total kgs lost: Weight    71.75\n",
      "dtype: float64\n"
     ]
    }
   ],
   "source": [
    "#TO CALCULATE THE WEIGHT LOSS\n",
    "df=pd.read_csv(path,na_values='NA',usecols=['Weight'])\n",
    "average_wt=np.mean(df)\n",
    "print('avg_weight:',average_wt)\n",
    "recent_weight=np.min(df)\n",
    "print('recent weight:',recent_weight)\n",
    "total_wtloss=np.max(df)-np.min(df)\n",
    "print('total kgs lost:',total_wtloss)\n"
   ]
  },
  {
   "cell_type": "code",
   "execution_count": 50,
   "id": "e84ea938",
   "metadata": {},
   "outputs": [
    {
     "data": {
      "text/plain": [
       "array([[<AxesSubplot:title={'center':'Days'}>,\n",
       "        <AxesSubplot:title={'center':'Weight'}>]], dtype=object)"
      ]
     },
     "execution_count": 50,
     "metadata": {},
     "output_type": "execute_result"
    },
    {
     "data": {
      "image/png": "[encoded data removed]",
      "text/plain": [
       "<Figure size 432x288 with 1 Axes>"
      ]
     },
     "metadata": {
      "needs_background": "light"
     },
     "output_type": "display_data"
    },
    {
     "data": {
      "image/png": "[encoded data removed]",
      "text/plain": [
       "<Figure size 1440x360 with 2 Axes>"
      ]
     },
     "metadata": {
      "needs_background": "light"
     },
     "output_type": "display_data"
    }
   ],
   "source": [
    "import matplotlib.pyplot as plt\n",
    "%matplotlib inline\n",
    "df=pd.read_csv(path,na_values='NA',usecols=['Days','Weight'])\n",
    "df.plot()\n",
    "df.hist(figsize=(20,5))"
   ]
  },
  {
   "cell_type": "code",
   "execution_count": 51,
   "id": "fb06680a",
   "metadata": {},
   "outputs": [
    {
     "data": {
      "text/html": [
       "<div>\n",
       "<style scoped>\n",
       "    .dataframe tbody tr th:only-of-type {\n",
       "        vertical-align: middle;\n",
       "    }\n",
       "\n",
       "    .dataframe tbody tr th {\n",
       "        vertical-align: top;\n",
       "    }\n",
       "\n",
       "    .dataframe thead th {\n",
       "        text-align: right;\n",
       "    }\n",
       "</style>\n",
       "<table border=\"1\" class=\"dataframe\">\n",
       "  <thead>\n",
       "    <tr style=\"text-align: right;\">\n",
       "      <th></th>\n",
       "      <th>SL.NO</th>\n",
       "      <th>Days</th>\n",
       "      <th>Weight</th>\n",
       "    </tr>\n",
       "  </thead>\n",
       "  <tbody>\n",
       "    <tr>\n",
       "      <th>count</th>\n",
       "      <td>52.000000</td>\n",
       "      <td>52.000000</td>\n",
       "      <td>52.000000</td>\n",
       "    </tr>\n",
       "    <tr>\n",
       "      <th>mean</th>\n",
       "      <td>26.500000</td>\n",
       "      <td>119.153846</td>\n",
       "      <td>142.248077</td>\n",
       "    </tr>\n",
       "    <tr>\n",
       "      <th>std</th>\n",
       "      <td>15.154757</td>\n",
       "      <td>71.517826</td>\n",
       "      <td>21.102614</td>\n",
       "    </tr>\n",
       "    <tr>\n",
       "      <th>min</th>\n",
       "      <td>1.000000</td>\n",
       "      <td>0.000000</td>\n",
       "      <td>112.600000</td>\n",
       "    </tr>\n",
       "    <tr>\n",
       "      <th>25%</th>\n",
       "      <td>13.750000</td>\n",
       "      <td>68.500000</td>\n",
       "      <td>127.500000</td>\n",
       "    </tr>\n",
       "    <tr>\n",
       "      <th>50%</th>\n",
       "      <td>26.500000</td>\n",
       "      <td>127.500000</td>\n",
       "      <td>135.800000</td>\n",
       "    </tr>\n",
       "    <tr>\n",
       "      <th>75%</th>\n",
       "      <td>39.250000</td>\n",
       "      <td>165.000000</td>\n",
       "      <td>154.682500</td>\n",
       "    </tr>\n",
       "    <tr>\n",
       "      <th>max</th>\n",
       "      <td>52.000000</td>\n",
       "      <td>246.000000</td>\n",
       "      <td>184.350000</td>\n",
       "    </tr>\n",
       "  </tbody>\n",
       "</table>\n",
       "</div>"
      ],
      "text/plain": [
       "           SL.NO        Days      Weight\n",
       "count  52.000000   52.000000   52.000000\n",
       "mean   26.500000  119.153846  142.248077\n",
       "std    15.154757   71.517826   21.102614\n",
       "min     1.000000    0.000000  112.600000\n",
       "25%    13.750000   68.500000  127.500000\n",
       "50%    26.500000  127.500000  135.800000\n",
       "75%    39.250000  165.000000  154.682500\n",
       "max    52.000000  246.000000  184.350000"
      ]
     },
     "execution_count": 51,
     "metadata": {},
     "output_type": "execute_result"
    }
   ],
   "source": [
    "path='D:/Data sets/wtloss.csv'\n",
    "df=pd.read_csv(path,na_values='NA',usecols=[0,1,2])\n",
    "df.describe(include='all')"
   ]
  },
  {
   "cell_type": "code",
   "execution_count": 56,
   "id": "c7c33cc1",
   "metadata": {},
   "outputs": [
    {
     "name": "stdout",
     "output_type": "stream",
     "text": [
      "25 percentile: 127.5 \t 75 percentile: 154.6825\n",
      "IQR IS: 27.182500000000005\n",
      "lower fence is: 86.72625\n",
      "upper fence is: 195.45625\n"
     ]
    }
   ],
   "source": [
    "path='D:/Data sets/wtloss.csv'\n",
    "df=pd.read_csv(path,na_values='NA',usecols=[2])\n",
    "sort=sorted(df.Weight)\n",
    "q1,q3=np.percentile(df.Weight,[25,75])\n",
    "print('25 percentile:',q1,'\\t 75 percentile:',q3)\n",
    "IQR=q3-q1\n",
    "print('IQR IS:',IQR)\n",
    "lower_fence=q1-(1.5*IQR)\n",
    "upper_fence=q3+(1.5*IQR)\n",
    "print(\"lower fence is:\",lower_fence)\n",
    "print(\"upper fence is:\",upper_fence)\n",
    "\n"
   ]
  },
  {
   "cell_type": "code",
   "execution_count": 57,
   "id": "85e6718e",
   "metadata": {},
   "outputs": [
    {
     "name": "stdout",
     "output_type": "stream",
     "text": [
      "[184.35]\n"
     ]
    }
   ],
   "source": [
    "path='D:/Data sets/wtloss.csv'\n",
    "df=pd.read_csv(path,na_values='NA',usecols=[2])\n",
    "outliers=[]\n",
    "def detect_outliers(data):\n",
    "    threshold=2\n",
    "    mean=np.mean(data)\n",
    "    std=np.std(data)\n",
    "    for i in df.Weight:\n",
    "        z_score=(i-mean)/std\n",
    "        #print(z_score)\n",
    "        if np.abs(z_score)>threshold:\n",
    "            outliers.append(i)\n",
    "    return outliers\n",
    "print(detect_outliers(df.Weight))"
   ]
  },
  {
   "cell_type": "code",
   "execution_count": 62,
   "id": "16d15ae0",
   "metadata": {},
   "outputs": [
    {
     "name": "stderr",
     "output_type": "stream",
     "text": [
      "C:\\Users\\91978\\Documents\\anacoda\\lib\\site-packages\\seaborn\\_decorators.py:36: FutureWarning: Pass the following variable as a keyword arg: x. From version 0.12, the only valid positional argument will be `data`, and passing other arguments without an explicit keyword will result in an error or misinterpretation.\n",
      "  warnings.warn(\n",
      "C:\\Users\\91978\\Documents\\anacoda\\lib\\site-packages\\seaborn\\_decorators.py:36: FutureWarning: Pass the following variable as a keyword arg: x. From version 0.12, the only valid positional argument will be `data`, and passing other arguments without an explicit keyword will result in an error or misinterpretation.\n",
      "  warnings.warn(\n"
     ]
    },
    {
     "data": {
      "text/plain": [
       "<AxesSubplot:xlabel='Weight'>"
      ]
     },
     "execution_count": 62,
     "metadata": {},
     "output_type": "execute_result"
    },
    {
     "data": {
      "image/png": "[encoded data removed]",
      "text/plain": [
       "<Figure size 432x288 with 1 Axes>"
      ]
     },
     "metadata": {
      "needs_background": "light"
     },
     "output_type": "display_data"
    }
   ],
   "source": [
    "import seaborn as sns\n",
    "sns.boxplot(outliers)\n",
    "sns.boxplot(df['Weight'])\n",
    "plt.show()\n",
    "#plt.show()"
   ]
  },
  {
   "cell_type": "code",
   "execution_count": null,
   "id": "f3f4550a",
   "metadata": {},
   "outputs": [],
   "source": []
  },
  {
   "cell_type": "code",
   "execution_count": null,
   "id": "7f862a5a",
   "metadata": {},
   "outputs": [],
   "source": []
  }
 ],
 "metadata": {
  "kernelspec": {
   "display_name": "Python 3",
   "language": "python",
   "name": "python3"
  },
  "language_info": {
   "codemirror_mode": {
    "name": "ipython",
    "version": 3
   },
   "file_extension": ".py",
   "mimetype": "text/x-python",
   "name": "python",
   "nbconvert_exporter": "python",
   "pygments_lexer": "ipython3",
   "version": "3.8.8"
  }
 },
 "nbformat": 4,
 "nbformat_minor": 5
}
